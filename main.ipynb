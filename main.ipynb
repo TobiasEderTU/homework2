{
 "cells": [
  {
   "cell_type": "markdown",
   "metadata": {},
   "source": [
    "## Aufgabe 1: Rechenoperationen und Ausgabe (1 Punkt)\n",
    "\n",
    "Sie führen Rechenoperationen und Ausgaben durch (keine eigenen Funktionen) und geben die Ergebnisse in der Konsole aus.\n",
    "\n",
    "Details zu Aufgabe finden Sie als Kommentar in [`task1.py`](task1.py):\n",
    "\n",
    "```py\n",
    "\"\"\"\n",
    "Implement a script (do not write your own functions) that does the following things:\n",
    "- Print your full name and student ID to the console.\n",
    "- Sum all integer values from 1 to 20 and print the result to the console.\n",
    "- Calculate '2 to the power of 10' ('2 hoch 10') and print the result to the console.\n",
    "- Calculate '2 to the power of 20' ('2 hoch 20') and print the result to the console.\n",
    "\"\"\"\n",
    "```\n",
    "\n",
    "- Ihre Implementierung erfolgt in [`task1.py`](task1.py). \n",
    "- Der zugeordnete Test ist [`test_task1.py`](test_task1.py).\n"
   ]
  },
  {
   "cell_type": "markdown",
   "metadata": {},
   "source": [
    "## Aufgabe 2: Kapselung von Rechenoperationen in Funktionen (1 Punkt)\n",
    "\n",
    "Häufig auftretende Rechenoperationen können mithilfe einer Funktion gekapselt werden. Die Signaturen der Funktionen, die Sie implementieren sollen, sind vorgegeben:\n",
    "\n",
    "```py\n",
    "sum2(a, b)\n",
    "sum3(a, b, c)\n",
    "abssum2(a, b)\n",
    "abssum3(a, b, c)\n",
    "mult5(a, b, c, d, e)\n",
    "```\n",
    "\n",
    "Eine genaue Beschreibung und Anforderungen finden Sie als Kommentare in [`task2.py`](task2.py). \n",
    "\n",
    "- Ihre Implementierung erfolgt in [`task2.py`](task2.py). \n",
    "- Der zugeordnete Test ist [`test_task2.py`](test_task2.py).\n"
   ]
  },
  {
   "cell_type": "markdown",
   "metadata": {},
   "source": [
    "## Aufgabe 3: Auswertung eines Polynoms (1 Punkt)\n",
    "\n",
    "Die Auswertung eines Polynoms zweiten bzw. dritten Grades an der Stelle x mit beliebigen Koeffizienten soll jeweils anhand einer Funktion erfolgen. Die Signatur der Funktionen ist vorgegeben:\n",
    "\n",
    "```python\n",
    "eval_poly_order2(x, a, b, c)\n",
    "eval_poly_order3(x, a, b, c, d)\n",
    "```\n",
    "\n",
    "Die Polynome sollen dabei folgende Form haben:\n",
    "\n",
    "$$\n",
    "\\begin{align}\n",
    "f_2(x) = &\\ ax^0+bx^1+cx^2 \\\\\n",
    "f_3(x) = &\\ ax^0+bx^1+cx^2+dx^3\n",
    "\\end{align}\n",
    "$$\n",
    "\n",
    "Eine genaue Beschreibung und Anforderungen finden Sie als Kommentare in [`task3.py`](task3.py). \n",
    "\n",
    "- Ihre Implementierung erfolgt in [`task3.py`](task3.py). \n",
    "- Der zugeordnete Test ist [`test_task3.py`](test_task3.py).\n",
    "\n",
    "\n",
    "**Hinweis:** Um Potenzen in Python zu berechnen gibt es mehrere Möglichkeiten, hier am Beispiel für $2^8$ gezeigt:\n",
    "\n",
    "\n",
    "- `pow(2,8)` : mittels der *built-in*-Funktion [`pow`](https://docs.python.org/3/library/functions.html#pow)\n",
    "- `2**8` : mittels des Operators `**`, der die Funktion `pow` aufruft\n",
    "- `math.pow(2,8)` : mittels der Funktion  [`math.pow`](https://docs.python.org/3/library/math.html?highlight=math%20pow#math.pow) aus der Mathematik-Bibliothek ( erfordert `import math`).\n",
    "\n",
    "Alle drei Ausdrücke würden (fast) das selbe Ergebnis liefern, allerdings gibt es immer kleine Unterschiede zwischen den built-in functions und Funktionen aus Bibliotheken, welche in den Dokumentationen der Funktionen nachgelesen werden können. In diesem Fall ist der Unterschied, dass `pow` wenn möglich das Ergebnis als Ganzzahl (`int`) zurückgibt, während `math.pow` immer eine Fließkommazahl (`float`) als Rückgabewert liefert.\n",
    "\n",
    "\n",
    "\n",
    "\n",
    "\n"
   ]
  },
  {
   "cell_type": "markdown",
   "metadata": {},
   "source": [
    "## Finales Testen aller drei Aufgabenteile\n",
    "\n",
    "Vor der finalen Abgabe einer Hausübung sollten Sie jedenfalls einmal alle Aufgabenteile gesammelt testen:\n",
    "\n",
    "```bash\n",
    "# test each task separately\n",
    "python test_task1.py -v\n",
    "python test_task2.py -v\n",
    "python test_task3.py -v\n",
    "```\n",
    "\n",
    "```bash\n",
    "# test all tasks at once\n",
    "python -m unittest -v\n",
    "```\n",
    "\n",
    "---"
   ]
  }
 ],
 "metadata": {
  "kernelspec": {
   "display_name": "Python 3",
   "language": "python",
   "name": "python3"
  },
  "language_info": {
   "codemirror_mode": {
    "name": "ipython",
    "version": 3
   },
   "file_extension": ".py",
   "mimetype": "text/x-python",
   "name": "python",
   "nbconvert_exporter": "python",
   "pygments_lexer": "ipython3",
   "version": "3.6.9"
  },
  "orig_nbformat": 4
 },
 "nbformat": 4,
 "nbformat_minor": 2
}
